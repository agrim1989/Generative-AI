{
  "nbformat": 4,
  "nbformat_minor": 0,
  "metadata": {
    "colab": {
      "provenance": [],
      "authorship_tag": "ABX9TyMG9z1soTQRgiQVKgpQYwXS",
      "include_colab_link": true
    },
    "kernelspec": {
      "name": "python3",
      "display_name": "Python 3"
    },
    "language_info": {
      "name": "python"
    }
  },
  "cells": [
    {
      "cell_type": "markdown",
      "metadata": {
        "id": "view-in-github",
        "colab_type": "text"
      },
      "source": [
        "<a href=\"https://colab.research.google.com/github/agrim1989/Generative-AI/blob/main/Google_GenAI_Generate_text_from_text_and_image_input.ipynb\" target=\"_parent\"><img src=\"https://colab.research.google.com/assets/colab-badge.svg\" alt=\"Open In Colab\"/></a>"
      ]
    },
    {
      "cell_type": "code",
      "source": [
        "!pip install langchain-google-genai google-generativeai"
      ],
      "metadata": {
        "id": "sPFcPnePszjz"
      },
      "execution_count": null,
      "outputs": []
    },
    {
      "cell_type": "code",
      "execution_count": 8,
      "metadata": {
        "id": "B5ywPaNEsqpZ"
      },
      "outputs": [],
      "source": [
        "from langchain_google_genai import ChatGoogleGenerativeAI\n",
        "from langchain.schema import HumanMessage\n",
        "from langchain.prompts.chat import HumanMessagePromptTemplate, ChatPromptTemplate\n",
        "import google.generativeai as genai\n",
        "from google import genai"
      ]
    },
    {
      "cell_type": "code",
      "source": [
        "client = genai.Client(api_key=\"\")"
      ],
      "metadata": {
        "id": "ldWgDKcxsuJy"
      },
      "execution_count": 9,
      "outputs": []
    },
    {
      "cell_type": "code",
      "source": [
        "from PIL import Image\n"
      ],
      "metadata": {
        "id": "bXHYJlm1ta28"
      },
      "execution_count": 7,
      "outputs": []
    },
    {
      "cell_type": "code",
      "source": [
        "image = Image.open(\"/content/abhikhaled.png\")\n",
        "response = client.models.generate_content(\n",
        "    model=\"gemini-2.0-flash\",\n",
        "    contents=[image, \"Tell me about this instrument\"])\n",
        "print(response.text)"
      ],
      "metadata": {
        "colab": {
          "base_uri": "https://localhost:8080/"
        },
        "id": "6UNrafLsteMX",
        "outputId": "c5472ca8-3e65-4ca7-f949-b9b82a8978eb"
      },
      "execution_count": 10,
      "outputs": [
        {
          "output_type": "stream",
          "name": "stdout",
          "text": [
            "Based on the image, the instrument appears to be a surgical instrument, specifically a laparoscopic surgical grasper or dissector. It's likely used in minimally invasive surgery to manipulate, grasp, or dissect tissue during a procedure. The design of the instrument with the jaws and handle suggests it's meant to be inserted through a small incision and used under endoscopic visualization.\n",
            "\n"
          ]
        }
      ]
    },
    {
      "cell_type": "code",
      "source": [],
      "metadata": {
        "id": "E1wIO3Kyt0tU"
      },
      "execution_count": null,
      "outputs": []
    }
  ]
}