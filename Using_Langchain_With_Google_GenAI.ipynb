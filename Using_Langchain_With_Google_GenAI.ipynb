{
  "nbformat": 4,
  "nbformat_minor": 0,
  "metadata": {
    "colab": {
      "provenance": [],
      "authorship_tag": "ABX9TyP/4wi3JGJzKNZ6tdBkIJmb",
      "include_colab_link": true
    },
    "kernelspec": {
      "name": "python3",
      "display_name": "Python 3"
    },
    "language_info": {
      "name": "python"
    }
  },
  "cells": [
    {
      "cell_type": "markdown",
      "metadata": {
        "id": "view-in-github",
        "colab_type": "text"
      },
      "source": [
        "<a href=\"https://colab.research.google.com/github/agrim1989/Generative-AI/blob/main/Using_Langchain_With_Google_GenAI.ipynb\" target=\"_parent\"><img src=\"https://colab.research.google.com/assets/colab-badge.svg\" alt=\"Open In Colab\"/></a>"
      ]
    },
    {
      "cell_type": "markdown",
      "source": [
        "Using Langchain With Google GenAI"
      ],
      "metadata": {
        "id": "07fBmKAvqx2X"
      }
    },
    {
      "cell_type": "markdown",
      "source": [
        "#### Installation"
      ],
      "metadata": {
        "id": "RCqUVRx7q4vF"
      }
    },
    {
      "cell_type": "code",
      "source": [
        "!pip install langchain-google-genai google-generativeai"
      ],
      "metadata": {
        "collapsed": true,
        "id": "TyBcJV62nwwq"
      },
      "execution_count": null,
      "outputs": []
    },
    {
      "cell_type": "markdown",
      "source": [
        "#### Configure API Keys"
      ],
      "metadata": {
        "id": "FdHNpr8Hq6zy"
      }
    },
    {
      "cell_type": "code",
      "source": [
        "import os\n",
        "os.environ[\"GOOGLE_API_KEY\"] = \"\""
      ],
      "metadata": {
        "id": "XeK8NnQRq8tx"
      },
      "execution_count": 18,
      "outputs": []
    },
    {
      "cell_type": "markdown",
      "source": [
        "#### Importing libraries"
      ],
      "metadata": {
        "id": "ccVgM8xSrCGr"
      }
    },
    {
      "cell_type": "code",
      "source": [
        "from langchain_google_genai import ChatGoogleGenerativeAI\n",
        "from langchain.schema import HumanMessage\n",
        "from langchain.prompts.chat import HumanMessagePromptTemplate, ChatPromptTemplate\n",
        "import google.generativeai as genai\n"
      ],
      "metadata": {
        "id": "sFw7U1_koauL"
      },
      "execution_count": 19,
      "outputs": []
    },
    {
      "cell_type": "code",
      "source": [
        "genai.configure(api_key=os.environ[\"GOOGLE_API_KEY\"])"
      ],
      "metadata": {
        "id": "tpqRHdZko5uX"
      },
      "execution_count": 20,
      "outputs": []
    },
    {
      "cell_type": "markdown",
      "source": [
        "#### Checking for available models"
      ],
      "metadata": {
        "id": "MlxLrVNdrPgY"
      }
    },
    {
      "cell_type": "code",
      "source": [
        "available_models = [model.name for model in genai.list_models()]\n",
        "print(available_models)"
      ],
      "metadata": {
        "colab": {
          "base_uri": "https://localhost:8080/",
          "height": 54
        },
        "id": "JrefctQno1AN",
        "outputId": "37693e57-0360-4893-a25c-ffba323bcd1d"
      },
      "execution_count": 10,
      "outputs": [
        {
          "output_type": "stream",
          "name": "stdout",
          "text": [
            "['models/chat-bison-001', 'models/text-bison-001', 'models/embedding-gecko-001', 'models/gemini-1.0-pro-vision-latest', 'models/gemini-pro-vision', 'models/gemini-1.5-pro-latest', 'models/gemini-1.5-pro-001', 'models/gemini-1.5-pro-002', 'models/gemini-1.5-pro', 'models/gemini-1.5-flash-latest', 'models/gemini-1.5-flash-001', 'models/gemini-1.5-flash-001-tuning', 'models/gemini-1.5-flash', 'models/gemini-1.5-flash-002', 'models/gemini-1.5-flash-8b', 'models/gemini-1.5-flash-8b-001', 'models/gemini-1.5-flash-8b-latest', 'models/gemini-1.5-flash-8b-exp-0827', 'models/gemini-1.5-flash-8b-exp-0924', 'models/gemini-2.0-flash-exp', 'models/gemini-2.0-flash', 'models/gemini-2.0-flash-001', 'models/gemini-2.0-flash-lite-001', 'models/gemini-2.0-flash-lite', 'models/gemini-2.0-flash-lite-preview-02-05', 'models/gemini-2.0-flash-lite-preview', 'models/gemini-2.0-pro-exp', 'models/gemini-2.0-pro-exp-02-05', 'models/gemini-exp-1206', 'models/gemini-2.0-flash-thinking-exp-01-21', 'models/gemini-2.0-flash-thinking-exp', 'models/gemini-2.0-flash-thinking-exp-1219', 'models/learnlm-1.5-pro-experimental', 'models/embedding-001', 'models/text-embedding-004', 'models/aqa', 'models/imagen-3.0-generate-002']\n"
          ]
        }
      ]
    },
    {
      "cell_type": "markdown",
      "source": [
        "#### Initilization of Model"
      ],
      "metadata": {
        "id": "NC6tnxCDrSif"
      }
    },
    {
      "cell_type": "code",
      "source": [
        "llm = ChatGoogleGenerativeAI(model=\"models/gemini-1.5-flash-latest\")"
      ],
      "metadata": {
        "id": "OL-EO8NpolyH"
      },
      "execution_count": 12,
      "outputs": []
    },
    {
      "cell_type": "markdown",
      "source": [
        "#### Creating function for interaction with LLM"
      ],
      "metadata": {
        "id": "w5eMLZJErb8Q"
      }
    },
    {
      "cell_type": "code",
      "source": [
        "PROMPT_COUNTRY_INFO = \"\"\"Provide information abount {country}\"\"\"\n",
        "def test():\n",
        "  llm = ChatGoogleGenerativeAI(model=\"models/gemini-1.5-flash-latest\")\n",
        "  country = input(\"Enter your country:- \")\n",
        "  message = HumanMessagePromptTemplate.from_template(template=PROMPT_COUNTRY_INFO)\n",
        "  chat_prompt = ChatPromptTemplate.from_messages(messages=[message])\n",
        "  response = llm.invoke(chat_prompt.format_prompt(country=country).to_messages())\n",
        "  print(response.content)"
      ],
      "metadata": {
        "id": "npphrTWOp4qR"
      },
      "execution_count": 16,
      "outputs": []
    },
    {
      "cell_type": "code",
      "source": [
        "test()"
      ],
      "metadata": {
        "colab": {
          "base_uri": "https://localhost:8080/"
        },
        "id": "0WEEHXo4qk_L",
        "outputId": "db1991a2-41aa-455f-b99e-0dbdf14880f0"
      },
      "execution_count": 17,
      "outputs": [
        {
          "output_type": "stream",
          "name": "stdout",
          "text": [
            "Enter your country:- India\n",
            "India is a vast and diverse country located in South Asia.  Here's a summary covering various aspects:\n",
            "\n",
            "**Geography:**\n",
            "\n",
            "* **Location:**  Situated on the Indian subcontinent, it's bordered by Pakistan to the west, China, Nepal, and Bhutan to the north, and Bangladesh and Myanmar to the east.  It also shares maritime borders with Sri Lanka and the Maldives.\n",
            "* **Terrain:**  India boasts a wide range of geographical features, including the Himalayas (the world's highest mountain range), the Indo-Gangetic Plain (one of the world's most fertile plains), the Thar Desert, and extensive coastal plains.\n",
            "* **Climate:**  India experiences diverse climates, ranging from tropical in the south to temperate in the north.  Monsoon rains are crucial for agriculture.\n",
            "\n",
            "**Demographics:**\n",
            "\n",
            "* **Population:**  India is the world's most populous country, with over 1.4 billion people.\n",
            "* **Languages:**  India has 22 scheduled languages, with Hindi and English being the most widely used.  Many other regional languages are spoken.\n",
            "* **Religion:**  India is a multi-religious country with a significant Hindu majority, along with large Muslim, Sikh, Christian, Buddhist, and Jain populations.\n",
            "* **Ethnicity:**  India is incredibly diverse ethnically, with many different groups and communities.\n",
            "\n",
            "**Government and Politics:**\n",
            "\n",
            "* **System:**  India is a federal parliamentary republic, the largest democracy in the world.\n",
            "* **Head of State:**  The President is the head of state, while the Prime Minister is the head of government.\n",
            "\n",
            "**Economy:**\n",
            "\n",
            "* **Type:**  India has a mixed economy, with both public and private sectors playing significant roles.\n",
            "* **Sectors:**  Major sectors include agriculture, information technology, manufacturing, and services.  It's a rapidly growing economy.\n",
            "\n",
            "**Culture:**\n",
            "\n",
            "* **Arts:**  India has a rich and ancient cultural heritage, renowned for its classical music, dance, literature, painting, sculpture, and architecture (e.g., the Taj Mahal).\n",
            "* **Festivals:**  Numerous vibrant festivals are celebrated throughout the year, reflecting the country's diverse religious and cultural traditions.\n",
            "* **Cuisine:**  Indian cuisine is incredibly diverse, varying greatly by region and incorporating spices and flavors from all over the country.\n",
            "\n",
            "**History:**\n",
            "\n",
            "* **Ancient Civilization:**  India is the birthplace of several ancient civilizations, including the Indus Valley Civilization.\n",
            "* **Colonial Rule:**  India was under British colonial rule for over 200 years.\n",
            "* **Independence:**  India gained independence from British rule in 1947.\n",
            "\n",
            "**Challenges:**\n",
            "\n",
            "* **Poverty and Inequality:**  Despite economic growth, poverty and inequality remain significant challenges.\n",
            "* **Overpopulation:**  Rapid population growth puts pressure on resources and infrastructure.\n",
            "* **Environmental Issues:**  Pollution, deforestation, and water scarcity are pressing environmental concerns.\n",
            "\n",
            "\n",
            "This is a brief overview; each of these points could be expanded upon significantly.  To learn more about a specific aspect of India, please ask a more focused question.\n"
          ]
        }
      ]
    },
    {
      "cell_type": "code",
      "source": [],
      "metadata": {
        "id": "Z-fs4tjjqm9P"
      },
      "execution_count": null,
      "outputs": []
    }
  ]
}